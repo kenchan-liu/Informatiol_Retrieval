{
 "cells": [
  {
   "cell_type": "code",
   "execution_count": 10,
   "metadata": {},
   "outputs": [],
   "source": [
    "import json\n",
    "import numpy as np\n",
    "with open('./nknews/nknews/news.json','r',encoding='utf-8')as fp:\n",
    "    json_data = json.load(fp)\n",
    "len = len(json_data)\n",
    "\n",
    "mat = np.zeros((len,len))\n",
    "for i in range(len):\n",
    "    for j in range(len):\n",
    "        if json_data[i]['url'][0] in json_data[j]['links']:\n",
    "            mat[i][j] = 1"
   ]
  },
  {
   "cell_type": "code",
   "execution_count": 5,
   "metadata": {},
   "outputs": [
    {
     "name": "stdout",
     "output_type": "stream",
     "text": [
      "[4762. 4762. 4762. ... 4762. 4762. 4762.]\n"
     ]
    }
   ],
   "source": [
    "o = np.sum(mat,axis=0)\n",
    "print(o)"
   ]
  },
  {
   "cell_type": "code",
   "execution_count": 10,
   "metadata": {},
   "outputs": [
    {
     "data": {
      "text/plain": [
       "0.0"
      ]
     },
     "execution_count": 10,
     "metadata": {},
     "output_type": "execute_result"
    }
   ],
   "source": [
    "max(mat[13985])"
   ]
  },
  {
   "cell_type": "code",
   "execution_count": 4,
   "metadata": {},
   "outputs": [
    {
     "name": "stdout",
     "output_type": "stream",
     "text": [
      "[[0 0 1]\n",
      " [1 0 1]\n",
      " [1 1 0]]\n",
      "[2 1 2]\n"
     ]
    }
   ],
   "source": [
    "G=np.array([[0,0,1],[1,0,1],[1,1,0]])\n",
    "print(G)\n",
    "print(np.sum(G,axis=0))"
   ]
  },
  {
   "cell_type": "code",
   "execution_count": 11,
   "metadata": {},
   "outputs": [],
   "source": [
    "def GtoM(G, N):\n",
    "    M = np.zeros((N, N))\n",
    "    D = np.sum(G,axis=0)\n",
    "    for i in range(N):\n",
    "        for j in range(N):\n",
    "            if D[j] == 0:\n",
    "                continue\n",
    "            M[i][j] = G[i][j] / D[j] # watch out! M_j_i instead of M_i_j\n",
    "    return M\n",
    "M = GtoM(G, 3)"
   ]
  },
  {
   "cell_type": "code",
   "execution_count": 12,
   "metadata": {},
   "outputs": [],
   "source": [
    "ans = GtoM(mat,len)"
   ]
  },
  {
   "cell_type": "code",
   "execution_count": 7,
   "metadata": {},
   "outputs": [],
   "source": [
    "def PageRank(M, N, T=30000, eps=1e-6, beta=0.8):\n",
    "    R = np.ones(N) / N\n",
    "    teleport = np.ones(N) / N\n",
    "    for time in range(T):\n",
    "        R_new = beta * np.dot(M, R) + (1-beta)*teleport\n",
    "        if np.linalg.norm(R_new - R) < eps:\n",
    "            break\n",
    "        R = R_new.copy()\n",
    "    return R_new"
   ]
  },
  {
   "cell_type": "code",
   "execution_count": 13,
   "metadata": {},
   "outputs": [],
   "source": [
    "rank = PageRank(ans,len)"
   ]
  },
  {
   "cell_type": "code",
   "execution_count": 14,
   "metadata": {},
   "outputs": [],
   "source": [
    "so=np.argsort(rank)"
   ]
  },
  {
   "cell_type": "code",
   "execution_count": 26,
   "metadata": {},
   "outputs": [],
   "source": [
    "for i in range(len):\n",
    "    json_data[i]['influe']=str(so[i])"
   ]
  },
  {
   "cell_type": "code",
   "execution_count": 27,
   "metadata": {},
   "outputs": [],
   "source": [
    "with open('./nknews/nknews/newssss.json','w') as f:\n",
    "    json.dump(json_data,f)"
   ]
  },
  {
   "cell_type": "code",
   "execution_count": 42,
   "metadata": {},
   "outputs": [
    {
     "data": {
      "text/plain": [
       "array([1., 1., 1., ..., 1., 1., 1.])"
      ]
     },
     "execution_count": 42,
     "metadata": {},
     "output_type": "execute_result"
    }
   ],
   "source": [
    "mat[13556]"
   ]
  },
  {
   "cell_type": "code",
   "execution_count": 1,
   "metadata": {},
   "outputs": [
    {
     "name": "stdout",
     "output_type": "stream",
     "text": [
      "17280\n"
     ]
    }
   ],
   "source": [
    "import json\n",
    "import numpy as np\n",
    "with open('./nknews/nknews/news.json','r',encoding='utf-8')as fp:\n",
    "    json_data = json.load(fp)\n",
    "print(len(json_data))"
   ]
  },
  {
   "cell_type": "code",
   "execution_count": 20,
   "metadata": {},
   "outputs": [],
   "source": [
    "from elasticsearch.client import Elasticsearch\n",
    "es = Elasticsearch()\n",
    "res = es.get(index=\"newstore-index\", id=37832)"
   ]
  },
  {
   "cell_type": "code",
   "execution_count": 21,
   "metadata": {},
   "outputs": [
    {
     "name": "stdout",
     "output_type": "stream",
     "text": [
      "{'content': \"['\\\\u3000\\\\u3000', '（记者 乔仁铭 通讯员 荆克迪\\\\xa0周敬文\\\\xa0孙咏琪）近日，我校党史学习教育宣讲团专家深入全校基层单位集中宣讲习近平总书记在庆祝中国共产党成立100周年大会上的重要讲话精神，引导广大师生员工把学习成果转化为奋进新征程、建功新时代的实际行动。', '\\\\u3000\\\\u3000日前，我校党史学习教育宣讲团成员、中国特色社会主义经济建设协同创新中心主任逄锦聚教授应邀为机关中心组成员、经济学院作“七一”重要讲话精神宣讲报告。面向机关中心组成员，他以“继续推进马克思主义中国化\\\\xa0\\\\xa0实现中华民族伟大复兴——学习习近平总书记在庆祝中国共产党成立100周年大会上的重要讲话”为主题，从“深入学习讲话提出的一系列新观点新要求”“旗帜鲜明地坚持马克思主义”“坚持推进马克思主义中国化”“把讲话作为行动指南为实现中华民族伟大复兴贡献力量”等方面为大家解读了“七一”重要讲话精神，强调应把学习“七一”重要讲话精神与学习马克思主义经典著作结合起来，与推动工作结合起来，在学懂弄通上下功夫，作为全党开展党史学习教育的重要内容，推动学习往深里走、往实里走、往心里走，并扎实做好青年工作。在经济学院，逄锦聚从“深入学习习近平总书记‘七一’重要讲话中提出的一系列新观点新要求”“以‘七一’讲话精神为指导，认真总结中国共产党百年经济理论创新成果和基本经验”“在世界大变局和全面建设社会主义现代化国家进程中发展完善中国经济学”“把‘七一’讲话精神作为行动指南，为实现中华民族伟大复兴贡献力量”四个方面展开宣讲，认真总结并深入解读了习近平总书记在“七一”重要讲话中提出的新观点、新要求，梳理了中国共产党百年经济理论的创新成果。', '\\\\u3000\\\\u300011月11日，我校党史学习教育宣讲团成员、马克思主义学院教授盛林深入法学院开展\\\\xa0“七一”重要讲话精神专题宣讲。他从习近平总书记“七一”重要讲话的重大意义、主要内容、丰富内涵以及其中蕴含的新思想、新观点、新论断、新要求等方面进行阐述，强调总书记讲话站在“两个一百年”历史交汇点，全面回顾了我们党百年走过的光辉历程，深刻阐明了在新征程上推进党和国家事业发展的一系列重大问题，是一篇闪烁着马克思主义真理光芒的光辉文献，是一篇新时代中国共产党人的政治宣言，是一篇新时代坚持和发展中国特色社会主义、实现第二个百年奋斗目标的行动纲领，对于我们全面建成社会主义现代化强国，实现中华民族伟大复兴的中国梦，具有极其重大的现实意义和深远的历史意义。盛林表示，深入学习习近平总书记重要讲话，定能使我们在一系列重大问题上深化认识，进一步增强进入新时代、奋进新征程的思想自觉和行动自觉，使我们更加深刻地领悟到中国共产党为什么能、马克思主义为什么行、中国特色社会主义为什么好。', '\\\\u3000\\\\u3000据了解，在专家宣讲基础上，各分党委书记带头，中层干部和基层支部书记积极参与，结合本单位实际，广泛深入支部、班级、学生成长社区或面向本单位全体师生，以党课、团课、班会、支部会、交流研讨等形式对“七一”重要讲话进行了广泛学习宣讲。', '郝静秋\\\\n    ']\", 'links': ['http://news.nankai.edu.cn/index.shtml', 'http://news.nankai.edu.cn/ywsd/index.shtml', 'http://news.nankai.edu.cn/mtnk/index.shtml', 'http://news.nankai.edu.cn/gynk/index.shtml', 'http://news.nankai.edu.cn/nkrw/index.shtml', 'http://news.nankai.edu.cn/nkdxb/index.shtml', 'http://news.nankai.edu.cn/sp/index.shtml', 'http://news.nankai.edu.cn/gb/index.shtml', 'http://news.nankai.edu.cn/index.shtml', 'http://news.nankai.edu.cn/ywsd/index.shtml', 'http://news.nankai.edu.cn/wx/system/2019/06/03/030033750.shtml', 'http://news.nankai.edu.cn/wx/system/2019/06/03/030033750.shtml', 'http://news.nankai.edu.cn/wx/index.shtml', 'http://news.nankai.edu.cn/ywsd/system/2021/12/01/030049202.shtml', 'http://news.nankai.edu.cn/ywsd/system/2021/12/03/030049274.shtml', 'http://news.nankai.edu.cn/ywsd/system/2021/12/01/030049201.shtml', 'http://news.nankai.edu.cn/ywsd/system/2021/11/30/030049198.shtml', 'http://news.nankai.edu.cn/ywsd/system/2021/12/03/030049249.shtml', 'http://news.nankai.edu.cn/ywsd/system/2021/12/01/030049209.shtml', 'http://news.nankai.edu.cn/ywsd/system/2021/12/01/030049199.shtml', 'http://news.nankai.edu.cn/ywsd/system/2021/11/30/030049197.shtml', 'http://news.nankai.edu.cn/ywsd/system/2021/12/03/030049250.shtml', 'http://news.nankai.edu.cn/ywsd/system/2021/11/30/030049181.shtml', 'mailto:nknews@nankai.edu.cn', 'http://www.nankai.edu.cn/', 'http://jw.nankai.edu.cn/', 'https://xs.nankai.edu.cn/', 'http://bbs.nankai.edu.cn/'], 'url': ['http://news.nankai.edu.cn/ywsd/system/2021/12/01/030049201.shtml']}\n"
     ]
    }
   ],
   "source": [
    "print(res['_source'])"
   ]
  },
  {
   "cell_type": "code",
   "execution_count": null,
   "metadata": {},
   "outputs": [],
   "source": []
  }
 ],
 "metadata": {
  "interpreter": {
   "hash": "6533528bd29ef11880bd174481d4f5e3a54226874bf51f1ba934968bb3a1896f"
  },
  "kernelspec": {
   "display_name": "Python 3.7.4 64-bit ('base': conda)",
   "language": "python",
   "name": "python3"
  },
  "language_info": {
   "codemirror_mode": {
    "name": "ipython",
    "version": 3
   },
   "file_extension": ".py",
   "mimetype": "text/x-python",
   "name": "python",
   "nbconvert_exporter": "python",
   "pygments_lexer": "ipython3",
   "version": "3.7.4"
  },
  "orig_nbformat": 4
 },
 "nbformat": 4,
 "nbformat_minor": 2
}
